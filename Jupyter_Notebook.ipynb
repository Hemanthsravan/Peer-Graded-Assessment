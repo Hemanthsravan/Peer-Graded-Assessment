{
 "cells": [
  {
   "cell_type": "markdown",
   "metadata": {},
   "source": [
    "<center>\n",
    "    <img src=\"https://cf-courses-data.s3.us.cloud-object-storage.appdomain.cloud/IBMDeveloperSkillsNetwork-DS0105EN-SkillsNetwork/labs/Module2/images/SN_web_lightmode.png\" width=\"300\" alt=\"cognitiveclass.ai logo\">\n",
    "</center>\n"
   ]
  },
  {
   "cell_type": "markdown",
   "metadata": {},
   "source": [
    "#### Add your code below following the instructions given in the course\n"
   ]
  },
  {
   "cell_type": "markdown",
   "metadata": {},
   "source": [
    "# My Jupyter Notebook on IBM Watson Studio"
   ]
  },
  {
   "cell_type": "markdown",
   "metadata": {},
   "source": [
    "My name is **Hemanth Sravan**.  \n",
    "My desired occupation is to become a Data Scientist"
   ]
  },
  {
   "cell_type": "markdown",
   "metadata": {},
   "source": [
    "*I am interested in data science because it is a multidisciplinary field that involves various technical roles within the domain. We can focus on deep learning concept that deals with artificial neural networks that is like giving the model or machine act and think like a human brain for better predictions and accuracy.*"
   ]
  },
  {
   "cell_type": "markdown",
   "metadata": {},
   "source": [
    "### My below code is going to concatenate and display Data Science topics in two lists."
   ]
  },
  {
   "cell_type": "code",
   "execution_count": 5,
   "metadata": {},
   "outputs": [
    {
     "name": "stdout",
     "output_type": "stream",
     "text": [
      "List of topics in Data Science are - \n",
      "\n",
      "Statistics\n",
      "Linear Algebra\n",
      "Data Analytics\n",
      "Machine Learning\n",
      "Artificial Intelligence\n",
      "Natural Language Processing\n",
      "Deep Learning\n",
      "Computer Vision\n"
     ]
    }
   ],
   "source": [
    "Data_Science_1 = ['Statistics', 'Linear Algebra', 'Data Analytics', 'Machine Learning']\n",
    "Data_Science_2 = ['Artificial Intelligence', 'Natural Language Processing','Deep Learning', 'Computer Vision']\n",
    "\n",
    "Data_Science = Data_Science_1 + Data_Science_2\n",
    "print(\"List of topics in Data Science are - \\n\")\n",
    "for topics in Data_Science:\n",
    "    print(topics)"
   ]
  },
  {
   "cell_type": "markdown",
   "metadata": {},
   "source": [
    "[Data Science GeeksforGeeks Tutorial link](https://www.geeksforgeeks.org/data-science-tutorial/)"
   ]
  },
  {
   "cell_type": "markdown",
   "metadata": {},
   "source": [
    "Data Analysis topic includes several subtopics such as \n",
    "\n",
    "   - Data Collection\n",
    "   - Data Preprocessing\n",
    "   - Data Visualization"
   ]
  },
  {
   "cell_type": "markdown",
   "metadata": {},
   "source": [
    "> Deep Learning concept deals with neural networks which are further classified into\n",
    "> * Artificial Neural Networks\n",
    "> *  Convolutional Neural Networks\n",
    "\n",
    "> Then comes Computer Vision Concept\n"
   ]
  },
  {
   "cell_type": "markdown",
   "metadata": {},
   "source": [
    "![RoadMap for Data Science](https://cdn.sketchbubble.com/pub/media/catalog/product/optimized1/b/0/b01a8b481cfe4371c81d32dc734fcb2fc60e1a16e5240b61edf5bcf19fcba696/data-science-roadmap-mc-slide2.png \"Data Science )"
   ]
  },
  {
   "cell_type": "code",
   "execution_count": null,
   "metadata": {},
   "outputs": [],
   "source": []
  }
 ],
 "metadata": {
  "kernelspec": {
   "display_name": "Python",
   "language": "python",
   "name": "conda-env-python-py"
  },
  "language_info": {
   "codemirror_mode": {
    "name": "ipython",
    "version": 3
   },
   "file_extension": ".py",
   "mimetype": "text/x-python",
   "name": "python",
   "nbconvert_exporter": "python",
   "pygments_lexer": "ipython3",
   "version": "3.7.12"
  }
 },
 "nbformat": 4,
 "nbformat_minor": 4
}
